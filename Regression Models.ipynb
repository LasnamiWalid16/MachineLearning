{
 "cells": [
  {
   "cell_type": "markdown",
   "id": "6c402d79",
   "metadata": {},
   "source": [
    "<h2>Creating Model ML for Translation_office Client per Day </h2>"
   ]
  },
  {
   "cell_type": "code",
   "execution_count": 36,
   "id": "4ba7523c",
   "metadata": {},
   "outputs": [],
   "source": [
    "import pandas as pd\n",
    "import matplotlib.pyplot as plt\n",
    "import numpy as np\n",
    "from pylab import rcParams\n",
    "import sklearn\n",
    "from sklearn.linear_model import LinearRegression\n",
    "from sklearn.preprocessing import scale,LabelEncoder\n",
    "\n",
    "import seaborn as sb\n",
    "sb.set_style('whitegrid')\n",
    "from collections import Counter"
   ]
  },
  {
   "cell_type": "code",
   "execution_count": 37,
   "id": "970ba444",
   "metadata": {},
   "outputs": [],
   "source": [
    "%matplotlib inline\n",
    "rcParams['figure.figsize'] = 5,4"
   ]
  },
  {
   "cell_type": "code",
   "execution_count": 39,
   "id": "25f27d3c",
   "metadata": {},
   "outputs": [
    {
     "data": {
      "text/html": [
       "<div>\n",
       "<style scoped>\n",
       "    .dataframe tbody tr th:only-of-type {\n",
       "        vertical-align: middle;\n",
       "    }\n",
       "\n",
       "    .dataframe tbody tr th {\n",
       "        vertical-align: top;\n",
       "    }\n",
       "\n",
       "    .dataframe thead th {\n",
       "        text-align: right;\n",
       "    }\n",
       "</style>\n",
       "<table border=\"1\" class=\"dataframe\">\n",
       "  <thead>\n",
       "    <tr style=\"text-align: right;\">\n",
       "      <th></th>\n",
       "      <th>date</th>\n",
       "      <th>day</th>\n",
       "      <th>month</th>\n",
       "      <th>year</th>\n",
       "      <th>total_day</th>\n",
       "      <th>client_number</th>\n",
       "    </tr>\n",
       "  </thead>\n",
       "  <tbody>\n",
       "    <tr>\n",
       "      <th>0</th>\n",
       "      <td>2022-01-31</td>\n",
       "      <td>Monday</td>\n",
       "      <td>1</td>\n",
       "      <td>2022</td>\n",
       "      <td>12500</td>\n",
       "      <td>4</td>\n",
       "    </tr>\n",
       "    <tr>\n",
       "      <th>1</th>\n",
       "      <td>2022-01-23</td>\n",
       "      <td>Sunday</td>\n",
       "      <td>1</td>\n",
       "      <td>2022</td>\n",
       "      <td>19200</td>\n",
       "      <td>7</td>\n",
       "    </tr>\n",
       "    <tr>\n",
       "      <th>2</th>\n",
       "      <td>2022-01-13</td>\n",
       "      <td>Thursday</td>\n",
       "      <td>1</td>\n",
       "      <td>2022</td>\n",
       "      <td>14000</td>\n",
       "      <td>5</td>\n",
       "    </tr>\n",
       "    <tr>\n",
       "      <th>3</th>\n",
       "      <td>2022-01-04</td>\n",
       "      <td>Tuesday</td>\n",
       "      <td>1</td>\n",
       "      <td>2022</td>\n",
       "      <td>17800</td>\n",
       "      <td>6</td>\n",
       "    </tr>\n",
       "    <tr>\n",
       "      <th>4</th>\n",
       "      <td>2022-01-27</td>\n",
       "      <td>Thursday</td>\n",
       "      <td>1</td>\n",
       "      <td>2022</td>\n",
       "      <td>24200</td>\n",
       "      <td>7</td>\n",
       "    </tr>\n",
       "  </tbody>\n",
       "</table>\n",
       "</div>"
      ],
      "text/plain": [
       "         date       day  month  year  total_day  client_number\n",
       "0  2022-01-31    Monday      1  2022      12500              4\n",
       "1  2022-01-23    Sunday      1  2022      19200              7\n",
       "2  2022-01-13  Thursday      1  2022      14000              5\n",
       "3  2022-01-04   Tuesday      1  2022      17800              6\n",
       "4  2022-01-27  Thursday      1  2022      24200              7"
      ]
     },
     "execution_count": 39,
     "metadata": {},
     "output_type": "execute_result"
    }
   ],
   "source": [
    "translations= pd.read_csv('Translation_Totals.csv',sep=';')\n",
    "translations.head()"
   ]
  },
  {
   "cell_type": "code",
   "execution_count": 57,
   "id": "ee8f74e5",
   "metadata": {},
   "outputs": [
    {
     "name": "stdout",
     "output_type": "stream",
     "text": [
      "<class 'pandas.core.frame.DataFrame'>\n",
      "RangeIndex: 107 entries, 0 to 106\n",
      "Data columns (total 6 columns):\n",
      " #   Column         Non-Null Count  Dtype \n",
      "---  ------         --------------  ----- \n",
      " 0   date           107 non-null    object\n",
      " 1   day            107 non-null    int64 \n",
      " 2   month          107 non-null    int64 \n",
      " 3   year           107 non-null    int64 \n",
      " 4   total_day      107 non-null    int64 \n",
      " 5   client_number  107 non-null    int64 \n",
      "dtypes: int64(5), object(1)\n",
      "memory usage: 5.1+ KB\n"
     ]
    }
   ],
   "source": [
    "translations.info()"
   ]
  },
  {
   "cell_type": "code",
   "execution_count": 40,
   "id": "a852d703",
   "metadata": {},
   "outputs": [
    {
     "name": "stdout",
     "output_type": "stream",
     "text": [
      "                  month      year  total_day  client_number\n",
      "month          1.000000 -0.989023   0.070744       0.162570\n",
      "year          -0.989023  1.000000  -0.072833      -0.162121\n",
      "total_day      0.070744 -0.072833   1.000000       0.733805\n",
      "client_number  0.162570 -0.162121   0.733805       1.000000\n"
     ]
    }
   ],
   "source": [
    "print(translations.corr())"
   ]
  },
  {
   "cell_type": "markdown",
   "id": "245e62bc",
   "metadata": {},
   "source": [
    "<h4>We have a probleme hear days are categorical variable we could't applyin a scale, for that we are going to do some one hot encoding( transformin day_column to a numirical variables the result should be 1-> 7 of course we have 7 days in the week) </h4>\n"
   ]
  },
  {
   "cell_type": "code",
   "execution_count": 46,
   "id": "99258978",
   "metadata": {},
   "outputs": [],
   "source": [
    "encoder= LabelEncoder()\n",
    "translations['day']=encoder.fit_transform(translations[['day']])"
   ]
  },
  {
   "cell_type": "code",
   "execution_count": 47,
   "id": "4ddc7f29",
   "metadata": {},
   "outputs": [
    {
     "data": {
      "text/plain": [
       "0      0\n",
       "1      2\n",
       "2      3\n",
       "3      4\n",
       "4      3\n",
       "      ..\n",
       "102    1\n",
       "103    5\n",
       "104    1\n",
       "105    5\n",
       "106    4\n",
       "Name: day, Length: 107, dtype: int64"
      ]
     },
     "execution_count": 47,
     "metadata": {},
     "output_type": "execute_result"
    }
   ],
   "source": [
    "translations['day']"
   ]
  },
  {
   "cell_type": "markdown",
   "id": "0d20a7a9",
   "metadata": {},
   "source": [
    "<h4>Seting up the variables \"X\" and the target \"y\" </h4>\n"
   ]
  },
  {
   "cell_type": "code",
   "execution_count": 51,
   "id": "f084e472",
   "metadata": {},
   "outputs": [],
   "source": [
    "translations_data = translations[['day','month','year']].values\n",
    "\n",
    "translations_target = translations[['client_number']]\n",
    "\n",
    "translations_data_names = ['day','month','year']\n",
    "\n",
    "X, y =scale(translations_data), translations_target"
   ]
  },
  {
   "cell_type": "markdown",
   "id": "cd4306e9",
   "metadata": {},
   "source": [
    "<h4> cheking for the missing values </h4>\n"
   ]
  },
  {
   "cell_type": "code",
   "execution_count": 52,
   "id": "5a0806a0",
   "metadata": {},
   "outputs": [
    {
     "data": {
      "text/plain": [
       "array([], dtype=float64)"
      ]
     },
     "execution_count": 52,
     "metadata": {},
     "output_type": "execute_result"
    }
   ],
   "source": [
    "missing_values = X==np.NAN\n",
    "X[missing_values == True]"
   ]
  },
  {
   "cell_type": "markdown",
   "id": "1adb4bfd",
   "metadata": {},
   "source": [
    "<h4>Fitting the Mode</h4>\n"
   ]
  },
  {
   "cell_type": "code",
   "execution_count": 55,
   "id": "7dea2f1f",
   "metadata": {},
   "outputs": [
    {
     "name": "stdout",
     "output_type": "stream",
     "text": [
      "0.029416491975365\n"
     ]
    }
   ],
   "source": [
    "MyModel=LinearRegression(normalize=True)\n",
    "\n",
    "MyModel.fit(X,y)\n",
    "\n",
    "print(MyModel.score(X,y))"
   ]
  },
  {
   "cell_type": "code",
   "execution_count": 56,
   "id": "7f346ca6",
   "metadata": {},
   "outputs": [
    {
     "data": {
      "text/plain": [
       "[<matplotlib.lines.Line2D at 0x1e8a6e490d0>,\n",
       " <matplotlib.lines.Line2D at 0x1e8a6e492e0>,\n",
       " <matplotlib.lines.Line2D at 0x1e8a6e49d90>]"
      ]
     },
     "execution_count": 56,
     "metadata": {},
     "output_type": "execute_result"
    },
    {
     "data": {
      "image/png": "[encoded data removed]",
      "text/plain": [
       "<Figure size 360x288 with 1 Axes>"
      ]
     },
     "metadata": {
      "needs_background": "light"
     },
     "output_type": "display_data"
    }
   ],
   "source": [
    "plt.plot(X,y)"
   ]
  }
 ],
 "metadata": {
  "kernelspec": {
   "display_name": "Python 3",
   "language": "python",
   "name": "python3"
  },
  "language_info": {
   "codemirror_mode": {
    "name": "ipython",
    "version": 3
   },
   "file_extension": ".py",
   "mimetype": "text/x-python",
   "name": "python",
   "nbconvert_exporter": "python",
   "pygments_lexer": "ipython3",
   "version": "3.8.8"
  }
 },
 "nbformat": 4,
 "nbformat_minor": 5
}
